{
 "cells": [
  {
   "cell_type": "code",
   "execution_count": 29,
   "metadata": {},
   "outputs": [],
   "source": [
    "import os\n",
    "\n",
    "# These files were copied from MPICH commit 7af0e7d0f5d0b8148544607e0c6121d9d1dbffba\n",
    "\n",
    "for file in os.listdir('.'):\n",
    "    # The MPICH files are all .c files, they will be manually cleaned up at the end of this script. \n",
    "    if(file.endswith(\".c\")):\n",
    "        name = os.path.splitext(file)[0]\n",
    "        lines = open(file,'r').readlines()\n",
    "        \n",
    "        idx_main = 0\n",
    "        for i in range(len(lines)):\n",
    "            if \"main\" in lines[i]:\n",
    "                idx_main = i\n",
    "                # Change main to the file name without the ext. \n",
    "                lines[i] = lines[i].replace(\"main\", name)\n",
    "                break\n",
    "                \n",
    "        # Add in namespace based on the file name\n",
    "        lines.insert(idx_main, \"namespace \" + name + \" {\\n\")\n",
    "        lines.append(\"} // namespace \" + name + \"\\n\")\n",
    "        \n",
    "        cc_file = open(name + \".cc\",'w')\n",
    "        for line in lines:\n",
    "            cc_file.write(line)\n",
    "        cc_file.close()  "
   ]
  },
  {
   "cell_type": "code",
   "execution_count": null,
   "metadata": {},
   "outputs": [],
   "source": []
  }
 ],
 "metadata": {
  "kernelspec": {
   "display_name": "Python 3",
   "language": "python",
   "name": "python3"
  },
  "language_info": {
   "codemirror_mode": {
    "name": "ipython",
    "version": 3
   },
   "file_extension": ".py",
   "mimetype": "text/x-python",
   "name": "python",
   "nbconvert_exporter": "python",
   "pygments_lexer": "ipython3",
   "version": "3.7.0"
  }
 },
 "nbformat": 4,
 "nbformat_minor": 2
}
